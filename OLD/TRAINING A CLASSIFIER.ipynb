{
 "metadata": {
  "language_info": {
   "codemirror_mode": {
    "name": "ipython",
    "version": 3
   },
   "file_extension": ".py",
   "mimetype": "text/x-python",
   "name": "python",
   "nbconvert_exporter": "python",
   "pygments_lexer": "ipython3",
   "version": 3
  },
  "orig_nbformat": 2
 },
 "nbformat": 4,
 "nbformat_minor": 2,
 "cells": [
  {
   "source": [
    "인공지능 학습하기\n",
    "===\n",
    "\n",
    "기본적으로 인공지능 학습을 시도하려면 이미지, 텍스트, 오디오 등과 같은 데이터들을 `numpy array`로 만들고 `torch.*Tensor`로 전환해야합니다.\n",
    "\n",
    "아래는 도움이 되는 모듈들입니다.\n",
    "\n",
    " * 이미지는 `Pillow`나 `OpenCV` 모듈이 유용합니다\n",
    " * 오디오는 `scipy`나 `librosa` 모듈이 유용합니다\n",
    " * 텍스트는 기본 python이나 `NLTK`또는 `SpaCy`가 유용합니다"
   ],
   "cell_type": "markdown",
   "metadata": {}
  }
 ]
}