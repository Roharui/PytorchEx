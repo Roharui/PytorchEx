{
 "metadata": {
  "language_info": {
   "codemirror_mode": {
    "name": "ipython",
    "version": 3
   },
   "file_extension": ".py",
   "mimetype": "text/x-python",
   "name": "python",
   "nbconvert_exporter": "python",
   "pygments_lexer": "ipython3",
   "version": "3.8.5-final"
  },
  "orig_nbformat": 2,
  "kernelspec": {
   "name": "python38564bit83ab371f0a6d4694b4434ab3deb4ce97",
   "display_name": "Python 3.8.5 64-bit"
  }
 },
 "nbformat": 4,
 "nbformat_minor": 2,
 "cells": [
  {
   "cell_type": "code",
   "execution_count": 20,
   "metadata": {},
   "outputs": [],
   "source": [
    "import torch"
   ]
  },
  {
   "cell_type": "code",
   "execution_count": 21,
   "metadata": {},
   "outputs": [
    {
     "output_type": "execute_result",
     "data": {
      "text/plain": "tensor([[1., 1.],\n        [1., 1.]], requires_grad=True)"
     },
     "metadata": {},
     "execution_count": 21
    }
   ],
   "source": [
    "x = torch.ones(2,2, requires_grad=True)\n",
    "x"
   ]
  },
  {
   "cell_type": "code",
   "execution_count": 22,
   "metadata": {},
   "outputs": [
    {
     "output_type": "execute_result",
     "data": {
      "text/plain": "tensor([[3., 3.],\n        [3., 3.]], grad_fn=<AddBackward0>)"
     },
     "metadata": {},
     "execution_count": 22
    }
   ],
   "source": [
    "y = x + 2\n",
    "y"
   ]
  },
  {
   "cell_type": "code",
   "execution_count": 23,
   "metadata": {},
   "outputs": [
    {
     "output_type": "execute_result",
     "data": {
      "text/plain": "<AddBackward0 at 0x2b8f723afa0>"
     },
     "metadata": {},
     "execution_count": 23
    }
   ],
   "source": [
    "y.grad_fn"
   ]
  },
  {
   "cell_type": "code",
   "execution_count": 24,
   "metadata": {},
   "outputs": [],
   "source": [
    "z = y * y * 3\n",
    "out = z.mean()"
   ]
  },
  {
   "cell_type": "code",
   "execution_count": 25,
   "metadata": {},
   "outputs": [
    {
     "output_type": "execute_result",
     "data": {
      "text/plain": "(tensor([[27., 27.],\n         [27., 27.]], grad_fn=<MulBackward0>),\n tensor(27., grad_fn=<MeanBackward0>))"
     },
     "metadata": {},
     "execution_count": 25
    }
   ],
   "source": [
    "z, out"
   ]
  },
  {
   "cell_type": "code",
   "execution_count": 26,
   "metadata": {
    "tags": []
   },
   "outputs": [
    {
     "output_type": "stream",
     "name": "stdout",
     "text": "False\nTrue\n<SumBackward0 object at 0x000002B8FF639D90>\n"
    }
   ],
   "source": [
    "a = torch.randn(2, 2)\n",
    "a = ((a * 3) / (a - 1))\n",
    "print(a.requires_grad)\n",
    "a.requires_grad_(True)\n",
    "print(a.requires_grad)\n",
    "b = (a * a).sum()\n",
    "print(b.grad_fn)"
   ]
  },
  {
   "cell_type": "code",
   "execution_count": 27,
   "metadata": {},
   "outputs": [],
   "source": [
    "out.backward()"
   ]
  },
  {
   "cell_type": "code",
   "execution_count": 28,
   "metadata": {},
   "outputs": [],
   "source": [
    "xx = out.detach()"
   ]
  },
  {
   "cell_type": "markdown",
   "metadata": {},
   "source": [
    "`autograd`는 자동으로 경사하강법을 사용할수 있도록 도와주는 기능이다.\n",
    "`Tensor` 클래스의 `require_grad`를 `True`로 할시 사용할수 있다.\n",
    "\n",
    "`require_grad`를 사용하게 되면 그 텐서의 모든 연산을 자동적으로 기록한다.\n",
    "만약 최종적으로 연산된 결과물이 스칼라일 경우, `.backward()` 메소드를 이용해서 지금까지의 연산으로 미분하게 된다.\n",
    "\n",
    "연산 기록을 남기고 싶지 않다면 `.detach()` 메소드를 사용하자.\n",
    "그렇다면 `require_grad=False` 인 텐서를 얻을수 있다.\n",
    "\n",
    "새로운 객체를 얻고 싶지 않다면 `.require_grad_(False)`를 사용하자. 그렇다면 기존의 텐서가 연산 기록을 중단할것이다.\n",
    "\n",
    "어느 한 부분만 기록을 중단하고 싶다면 `with torch.no_grad()` 를 사용하자"
   ]
  },
  {
   "source": [
    "`.backward()` 는 기록된 연산들을 미분하고 그 기울기를 반환한다.\n",
    "\n",
    "밑의 식을 $ \\sigma $ 라 했을때 $ \\sigma = {1 \\over 4} \\Sigma (x + 3) ^ x$ 라고 할수 있다. \n",
    "\n",
    "backward()` 는 기록된 연산들을 미분하고 그 기울기를 반환한다.\n",
    "\n",
    "밑의 식을 $ \\sigma $ 라 했을때 $ \\sigma = {1 \\over 4} \\Sigma (x + 3) ^ x$ 라고 할수 있다. \n",
    "\n",
    "이 식의 미분식은 $ {1 \\over 4} (2x + 2) $ 그러므로 $ x = 1 $ 일때 기울기는 1.25이다"
   ],
   "cell_type": "markdown",
   "metadata": {}
  },
  {
   "cell_type": "code",
   "execution_count": 29,
   "metadata": {},
   "outputs": [
    {
     "output_type": "execute_result",
     "data": {
      "text/plain": "tensor([[1., 1.],\n        [1., 1.]], requires_grad=True)"
     },
     "metadata": {},
     "execution_count": 29
    }
   ],
   "source": [
    "t = torch.ones(2, 2, requires_grad=True)\n",
    "t"
   ]
  },
  {
   "cell_type": "code",
   "execution_count": 30,
   "metadata": {},
   "outputs": [
    {
     "output_type": "execute_result",
     "data": {
      "text/plain": "tensor([[4., 4.],\n        [4., 4.]], grad_fn=<MulBackward0>)"
     },
     "metadata": {},
     "execution_count": 30
    }
   ],
   "source": [
    "t1 = (t + 3) * t\n",
    "t1"
   ]
  },
  {
   "cell_type": "code",
   "execution_count": 31,
   "metadata": {},
   "outputs": [
    {
     "output_type": "execute_result",
     "data": {
      "text/plain": "tensor(4., grad_fn=<MeanBackward0>)"
     },
     "metadata": {},
     "execution_count": 31
    }
   ],
   "source": [
    "tm = torch.mean(t1)\n",
    "tm"
   ]
  },
  {
   "cell_type": "code",
   "execution_count": 32,
   "metadata": {},
   "outputs": [],
   "source": [
    "tm.backward()"
   ]
  },
  {
   "cell_type": "code",
   "execution_count": 33,
   "metadata": {},
   "outputs": [
    {
     "output_type": "execute_result",
     "data": {
      "text/plain": "(tensor([[1.2500, 1.2500],\n         [1.2500, 1.2500]]),\n tensor([[1., 1.],\n         [1., 1.]], requires_grad=True))"
     },
     "metadata": {},
     "execution_count": 33
    }
   ],
   "source": [
    "(t.grad, t)"
   ]
  }
 ]
}