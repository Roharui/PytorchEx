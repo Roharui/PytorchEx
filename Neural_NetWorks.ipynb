{
 "metadata": {
  "language_info": {
   "codemirror_mode": {
    "name": "ipython",
    "version": 3
   },
   "file_extension": ".py",
   "mimetype": "text/x-python",
   "name": "python",
   "nbconvert_exporter": "python",
   "pygments_lexer": "ipython3",
   "version": "3.8.5-final"
  },
  "orig_nbformat": 2,
  "kernelspec": {
   "name": "python38564bit83ab371f0a6d4694b4434ab3deb4ce97",
   "display_name": "Python 3.8.5 64-bit"
  }
 },
 "nbformat": 4,
 "nbformat_minor": 2,
 "cells": [
  {
   "source": [
    "파아토치는 tensorflow의 케라스 모듈과는 다르게 많이 수동적인 방법을 사용합니다.\n",
    "\n",
    "특정 레이어를 쌓아서 모델을 설계하는 keras와는 다르게 파이토치는 직접 가중치 선언부터 연산까지 직접 설계해야합니다."
   ],
   "cell_type": "markdown",
   "metadata": {}
  },
  {
   "cell_type": "code",
   "execution_count": 44,
   "metadata": {},
   "outputs": [],
   "source": [
    "import torch\n",
    "import torch.nn as nn\n",
    "import torch.nn.functional as F"
   ]
  },
  {
   "cell_type": "code",
   "execution_count": 45,
   "metadata": {},
   "outputs": [],
   "source": [
    "class Net(nn.Module):\n",
    "    def __init__(self):\n",
    "        super(Net, self).__init__()\n",
    "        # 1개의 입력 이미지, 6개의 필터링 이미지, 3x3 크기의 필터\n",
    "        self.conv1 = nn.Conv2d(1, 6, 3)\n",
    "        self.conv2 = nn.Conv2d(6, 16, 3)\n",
    "\n",
    "        # 단순 가중치 설정\n",
    "        self.fc1 = nn.Linear(16 * 6 * 6, 120)\n",
    "        self.fc2 = nn.Linear(120, 84)\n",
    "        self.fc3 = nn.Linear(84, 10)\n",
    "\n",
    "    # tensorflow의 predict 와 동일기능\n",
    "    def forward(self, x):\n",
    "\n",
    "        # 맥스 풀링\n",
    "        x = F.max_pool2d(F.relu(self.conv1(x)), (2, 2))\n",
    "        # ㄴ conv -> relu -> 2*2 사이즈 맥스 풀링\n",
    "        x = F.max_pool2d(F.relu(self.conv2(x)), 2)\n",
    "        # ㄴ 정사각형이라면 단일 정수 입력 가능\n",
    "        x = x.view(-1, self.flatten(x))\n",
    "        # ㄴ Flatten\n",
    "        x = F.relu(self.fc1(x))\n",
    "        x = F.relu(self.fc2(x))\n",
    "        x = self.fc3(x)\n",
    "        return x\n",
    "\n",
    "    def flatten(self, x):\n",
    "        size = x.size()[1:]\n",
    "        result = 1\n",
    "        for s in size:\n",
    "            result *= s\n",
    "        return result"
   ]
  },
  {
   "cell_type": "code",
   "execution_count": 46,
   "metadata": {},
   "outputs": [
    {
     "output_type": "execute_result",
     "data": {
      "text/plain": "Net(\n  (conv1): Conv2d(1, 6, kernel_size=(3, 3), stride=(1, 1))\n  (conv2): Conv2d(6, 16, kernel_size=(3, 3), stride=(1, 1))\n  (fc1): Linear(in_features=576, out_features=120, bias=True)\n  (fc2): Linear(in_features=120, out_features=84, bias=True)\n  (fc3): Linear(in_features=84, out_features=10, bias=True)\n)"
     },
     "metadata": {},
     "execution_count": 46
    }
   ],
   "source": [
    "net = Net()\n",
    "net"
   ]
  },
  {
   "cell_type": "code",
   "execution_count": 47,
   "metadata": {
    "tags": []
   },
   "outputs": [
    {
     "output_type": "stream",
     "name": "stdout",
     "text": "10\ntorch.Size([6, 1, 3, 3])\ntorch.Size([6])\ntorch.Size([16, 6, 3, 3])\ntorch.Size([16])\ntorch.Size([120, 576])\ntorch.Size([120])\ntorch.Size([84, 120])\ntorch.Size([84])\ntorch.Size([10, 84])\ntorch.Size([10])\n"
    }
   ],
   "source": [
    "param = list(net.parameters())\n",
    "print(len(param))\n",
    "for i in param:\n",
    "    print(i.size())"
   ]
  },
  {
   "cell_type": "code",
   "execution_count": 48,
   "metadata": {},
   "outputs": [
    {
     "output_type": "execute_result",
     "data": {
      "text/plain": "tensor([[ 0.0232,  0.0014,  0.0273, -0.0040, -0.0505, -0.0776, -0.1918,  0.0691,\n          0.1226,  0.0217]], grad_fn=<AddmmBackward>)"
     },
     "metadata": {},
     "execution_count": 48
    }
   ],
   "source": [
    "input_img = torch.randn(1, 1, 32, 32)\n",
    "out = net(input_img)\n",
    "out"
   ]
  },
  {
   "cell_type": "code",
   "execution_count": 49,
   "metadata": {},
   "outputs": [],
   "source": [
    "net.zero_grad()\n",
    "out.backward(torch.randn(1, 10))"
   ]
  },
  {
   "source": [
    "Loss Function (손실 함수)\n",
    "\n",
    "손실함수는 (예측 값, 실제 값)을 매개변수로 가지며 예측값이 실제값과 얼마나 많이 차이가 나는지 계산합니다.\n",
    "\n",
    "손실함수에는 여러종류가 있지만 (nn 패키지에 들어 있습니다.) 가장 간단한 손실함수는 `nn.MSELoss`입니다.\n",
    "수식은 다음과 같습니다.\n",
    "\n",
    "$ y` = 예측값, y = 실제 값, n = 배열의 길이 $\n",
    "\n",
    "$ L(y`_i, y_i) = {1 \\over n} \\Sigma^n_{i=1} (y_i - y`_i)^2 $"
   ],
   "cell_type": "markdown",
   "metadata": {}
  },
  {
   "cell_type": "code",
   "execution_count": 50,
   "metadata": {},
   "outputs": [
    {
     "output_type": "execute_result",
     "data": {
      "text/plain": "tensor(0.5303, grad_fn=<MseLossBackward>)"
     },
     "metadata": {},
     "execution_count": 50
    }
   ],
   "source": [
    "output = net(input_img)\n",
    "target = torch.randn(10)\n",
    "target = target.view(1, -1)\n",
    "criterion = nn.MSELoss()\n",
    "\n",
    "loss = criterion(output, target)\n",
    "loss"
   ]
  },
  {
   "cell_type": "code",
   "execution_count": 51,
   "metadata": {
    "tags": []
   },
   "outputs": [
    {
     "output_type": "stream",
     "name": "stdout",
     "text": "<MseLossBackward object at 0x0000021955DA8F10>\n<AddmmBackward object at 0x0000021955DA8340>\n<AccumulateGrad object at 0x0000021955DA8F10>\n"
    }
   ],
   "source": [
    "print(loss.grad_fn)  # MSELoss\n",
    "print(loss.grad_fn.next_functions[0][0])  # Liner\n",
    "print(loss.grad_fn.next_functions[0][0].next_functions[0][0])  # ReLU"
   ]
  },
  {
   "source": [
    "Backprop (오차 역전파)\n",
    "\n",
    "오차역전파는 `loss.backward()`로 얻어진 오차를 신경망에 감산합니다.\n",
    "\n"
   ],
   "cell_type": "markdown",
   "metadata": {}
  },
  {
   "cell_type": "code",
   "execution_count": 52,
   "metadata": {
    "tags": []
   },
   "outputs": [
    {
     "output_type": "stream",
     "name": "stdout",
     "text": "conv1.bias.grad before backward\ntensor([0., 0., 0., 0., 0., 0.])\nconv1.bias.grad after backward\ntensor([ 0.0071, -0.0016, -0.0026,  0.0079, -0.0061, -0.0084])\n"
    }
   ],
   "source": [
    "net.zero_grad() # 이전의 연산으로 생겨난 오차를 전부 제거합니다.\n",
    "\n",
    "print('conv1.bias.grad before backward')\n",
    "print(net.conv1.bias.grad)\n",
    "\n",
    "loss.backward()\n",
    "\n",
    "print('conv1.bias.grad after backward')\n",
    "print(net.conv1.bias.grad)"
   ]
  },
  {
   "source": [
    "그럼 이제 신경망을 학습시켜 봅시다.\n",
    "\n",
    "신경망 학습은 대충 아래와 같은 방식으로 작동합니다."
   ],
   "cell_type": "markdown",
   "metadata": {}
  },
  {
   "cell_type": "code",
   "execution_count": 53,
   "metadata": {},
   "outputs": [],
   "source": [
    "learning_rate = 0.01 # 학습률입니다. 이 값이 작을수록 학습이 더디지만 더 정확하게 됩니다.\n",
    "for f in net.parameters():\n",
    "    f.data.sub_(f.grad.data * learning_rate)"
   ]
  },
  {
   "source": [
    "하지만 이 방법으로 가중치를 감산하는 것은 학습이 매우 더덥니다.\n",
    "\n",
    "정말 다행히도 파이토치는 신경망 학습을 위한 여러가지 모듈을 지원합니다. 이를 옵티마이저(optimizer)이라고 합니다."
   ],
   "cell_type": "markdown",
   "metadata": {}
  },
  {
   "cell_type": "code",
   "execution_count": 54,
   "metadata": {},
   "outputs": [],
   "source": [
    "import torch.optim as optim\n",
    "\n",
    "# create your optimizer\n",
    "optimizer = optim.SGD(net.parameters(), lr=0.01)\n",
    "\n",
    "# in your training loop:\n",
    "optimizer.zero_grad()   # zero the gradient buffers\n",
    "output = net(input_img)\n",
    "loss = criterion(output, target)\n",
    "loss.backward()\n",
    "optimizer.step()    # Does the update"
   ]
  }
 ]
}