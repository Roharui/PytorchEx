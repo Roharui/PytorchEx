{
 "cells": [
  {
   "cell_type": "markdown",
   "metadata": {},
   "source": [
    "# 기초 텐서"
   ]
  },
  {
   "cell_type": "markdown",
   "metadata": {},
   "source": [
    "### 텐서 선언"
   ]
  },
  {
   "cell_type": "code",
   "execution_count": 12,
   "metadata": {},
   "outputs": [
    {
     "data": {
      "text/plain": [
       "tensor([2.5000, 0.1000])"
      ]
     },
     "execution_count": 12,
     "metadata": {},
     "output_type": "execute_result"
    }
   ],
   "source": [
    "import torch\n",
    "\n",
    "torch.empty(3)\n",
    "'''\n",
    "result : tensor([6.7706e+22, 1.0674e-08, 2.1650e+23])\n",
    "'''\n",
    "torch.empty(2,2,3)\n",
    "'''\n",
    "result : \n",
    "tensor([[[0., 0., 0.],\n",
    "         [0., 0., 0.]],\n",
    "\n",
    "        [[0., 0., 0.],\n",
    "         [0., 0., 0.]]])\n",
    "'''\n",
    "torch.rand(2, 2)\n",
    "'''\n",
    "result : \n",
    "tensor([[0.7781, 0.6035],\n",
    "        [0.3431, 0.8024]])\n",
    "항상 바뀜!\n",
    "'''\n",
    "torch.tensor([2.5 ,0.1])\n",
    "'''\n",
    "result : tensor([2.5000, 0.1000])\n",
    "'''"
   ]
  },
  {
   "cell_type": "code",
   "execution_count": 9,
   "metadata": {},
   "outputs": [
    {
     "data": {
      "text/plain": [
       "tensor([[0., 0.],\n",
       "        [0., 0.]])"
      ]
     },
     "execution_count": 9,
     "metadata": {},
     "output_type": "execute_result"
    }
   ],
   "source": [
    "torch.zeros(2,2)"
   ]
  },
  {
   "cell_type": "markdown",
   "metadata": {},
   "source": [
    "### 텐서 타입 지정"
   ]
  },
  {
   "cell_type": "code",
   "execution_count": 10,
   "metadata": {},
   "outputs": [
    {
     "name": "stdout",
     "output_type": "stream",
     "text": [
      "torch.float32\n",
      "torch.int32\n",
      "torch.float64\n"
     ]
    }
   ],
   "source": [
    "x = torch.ones(2, 2)\n",
    "print(x.dtype)\n",
    "x = torch.ones(2, 2, dtype=torch.int)\n",
    "print(x.dtype)\n",
    "x = torch.ones(2, 2, dtype=torch.double)\n",
    "print(x.dtype)"
   ]
  },
  {
   "cell_type": "markdown",
   "metadata": {},
   "source": [
    "### 텐서 크기"
   ]
  },
  {
   "cell_type": "code",
   "execution_count": 11,
   "metadata": {},
   "outputs": [
    {
     "data": {
      "text/plain": [
       "torch.Size([2, 2])"
      ]
     },
     "execution_count": 11,
     "metadata": {},
     "output_type": "execute_result"
    }
   ],
   "source": [
    "x = torch.ones(2,2)\n",
    "x.size()"
   ]
  },
  {
   "cell_type": "markdown",
   "metadata": {},
   "source": [
    "### 텐서 연산"
   ]
  },
  {
   "cell_type": "code",
   "execution_count": 13,
   "metadata": {},
   "outputs": [
    {
     "data": {
      "text/plain": [
       "tensor([3, 7])"
      ]
     },
     "execution_count": 13,
     "metadata": {},
     "output_type": "execute_result"
    }
   ],
   "source": [
    "x = torch.tensor([2,2])\n",
    "y = torch.tensor([1,5])\n",
    "\n",
    "x + y\n",
    "torch.add(x, y)\n",
    "y.add_(x) # y += x\n",
    "\n",
    "x - y\n",
    "torch.mul(x, y)\n",
    "y.div_(x)"
   ]
  },
  {
   "cell_type": "markdown",
   "metadata": {},
   "source": [
    "### 텐서 선택 (인덱싱)"
   ]
  },
  {
   "cell_type": "code",
   "execution_count": 15,
   "metadata": {},
   "outputs": [
    {
     "name": "stdout",
     "output_type": "stream",
     "text": [
      "tensor([[0.5118, 0.5521, 0.0285],\n",
      "        [0.9465, 0.0076, 0.0234],\n",
      "        [0.9360, 0.4874, 0.8782],\n",
      "        [0.6202, 0.7136, 0.0648],\n",
      "        [0.4219, 0.5991, 0.1202]])\n",
      "tensor([0.9465, 0.0076, 0.0234])\n",
      "tensor(0.0076)\n"
     ]
    }
   ],
   "source": [
    "x = torch.rand(5, 3)\n",
    "print(x)\n",
    "print(x[1, :])\n",
    "print(x[1, 1])\n",
    "print(x[1, 1].item()) # 실제 값을 리턴함 (오직 하나의 요소만 있을때 가능)"
   ]
  },
  {
   "cell_type": "markdown",
   "metadata": {},
   "source": [
    "### 텐서 리사이징"
   ]
  },
  {
   "cell_type": "code",
   "execution_count": 18,
   "metadata": {},
   "outputs": [
    {
     "name": "stdout",
     "output_type": "stream",
     "text": [
      "torch.Size([4, 4])\n",
      "torch.Size([16])\n",
      "torch.Size([2, 8])\n"
     ]
    }
   ],
   "source": [
    "x = torch.rand(4, 4)\n",
    "print(x.size())\n",
    "y = x.view(16)\n",
    "print(y.size())\n",
    "y = x.view(-1, 8) # -1은 자동으로 크기 선택 (2, 8) \n",
    "print(y.size())"
   ]
  },
  {
   "cell_type": "markdown",
   "metadata": {},
   "source": [
    "### 텐서 -> Numpy"
   ]
  },
  {
   "cell_type": "code",
   "execution_count": 20,
   "metadata": {},
   "outputs": [
    {
     "name": "stdout",
     "output_type": "stream",
     "text": [
      "tensor([1., 1., 1., 1., 1.])\n",
      "<class 'numpy.ndarray'>\n",
      "tensor([2., 2., 2., 2., 2.])\n",
      "[2. 2. 2. 2. 2.]\n"
     ]
    }
   ],
   "source": [
    "import numpy as np\n",
    "\n",
    "x = torch.ones(5)\n",
    "print(x)\n",
    "y = x.numpy()\n",
    "print(type(y))\n",
    "\n",
    "# numpy 배열과 torch.tensor는 메모리를 공유함\n",
    "\n",
    "x.add_(1)\n",
    "\n",
    "print(x)\n",
    "print(y)"
   ]
  },
  {
   "cell_type": "markdown",
   "metadata": {},
   "source": [
    "### Numpy -> 텐서"
   ]
  },
  {
   "cell_type": "code",
   "execution_count": 23,
   "metadata": {},
   "outputs": [
    {
     "name": "stdout",
     "output_type": "stream",
     "text": [
      "[1. 1. 1. 1. 1.]\n",
      "tensor([1., 1., 1., 1., 1.], dtype=torch.float64)\n",
      "[2. 2. 2. 2. 2.]\n",
      "tensor([2., 2., 2., 2., 2.], dtype=torch.float64)\n"
     ]
    }
   ],
   "source": [
    "a = np.ones(5)\n",
    "print(a)\n",
    "b = torch.from_numpy(a) # dtype 조정 가능\n",
    "print(b)\n",
    "\n",
    "# a와 b는 같은 메모리를 공유함\n",
    "\n",
    "a += 1\n",
    "\n",
    "print(a)\n",
    "print(b)"
   ]
  },
  {
   "cell_type": "markdown",
   "metadata": {},
   "source": [
    "### GPU 내부에 텐서 만들기"
   ]
  },
  {
   "cell_type": "code",
   "execution_count": null,
   "metadata": {},
   "outputs": [],
   "source": [
    "if torch.cuda.is_available():\n",
    "  # CUDA가 설치되어 있을 경우\n",
    "  device = torch.device(\"cuda\")\n",
    "\n",
    "  # GPU 내부에 텐서 생성\n",
    "  x = torch.ones(5, device=device)\n",
    "  \n",
    "  # CPU에 있던 텐서를 GPU로\n",
    "  y = torch.ones(5)\n",
    "  y = y.to(device)\n",
    "\n",
    "  # 더 빠르게 연산이 가능\n",
    "  z = x + y\n",
    "\n",
    "  # 주의!\n",
    "  # z.numpy() 하면 에러가 호출됨!\n",
    "  # 넘파이는 오직 CPU만 핸들 가능함\n",
    "\n",
    "  # CPU로 다시 데이터 옮기기\n",
    "  z = z.to(\"cpu\")"
   ]
  },
  {
   "cell_type": "markdown",
   "metadata": {},
   "source": [
    "### 기울기 계산 필수"
   ]
  },
  {
   "cell_type": "code",
   "execution_count": null,
   "metadata": {},
   "outputs": [],
   "source": [
    "# 후일 최적화 단계에서 기울기를 계산해야된다는 것을 Pytorch에게 알려줌\n",
    "# 기본값은 False\n",
    "x = torch.ones(5, requires_grad=True)\n",
    "print(x)"
   ]
  }
 ],
 "metadata": {
  "interpreter": {
   "hash": "396451cf4736393cb611840ce622d2670402a4bae55ec30c934277e87d3a6ae6"
  },
  "kernelspec": {
   "display_name": "Python 3.9.7 64-bit ('pytorch': conda)",
   "language": "python",
   "name": "python3"
  },
  "language_info": {
   "codemirror_mode": {
    "name": "ipython",
    "version": 3
   },
   "file_extension": ".py",
   "mimetype": "text/x-python",
   "name": "python",
   "nbconvert_exporter": "python",
   "pygments_lexer": "ipython3",
   "version": "3.9.7"
  },
  "orig_nbformat": 4
 },
 "nbformat": 4,
 "nbformat_minor": 2
}
